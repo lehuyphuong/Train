{
 "cells": [
  {
   "cell_type": "markdown",
   "metadata": {},
   "source": [
    "This Notebook process the raw force data. The data is not provided.\n",
    "\n",
    "The raw captured force data is at 2000 Hz, we lowpass it to 20 Hz. "
   ]
  },
  {
   "cell_type": "code",
   "execution_count": 1,
   "metadata": {},
   "outputs": [
    {
     "name": "stderr",
     "output_type": "stream",
     "text": [
      "c:\\Users\\xjhan\\miniconda3\\envs\\GroundLinkSubmission\\lib\\site-packages\\tqdm\\auto.py:21: TqdmWarning: IProgress not found. Please update jupyter and ipywidgets. See https://ipywidgets.readthedocs.io/en/stable/user_install.html\n",
      "  from .autonotebook import tqdm as notebook_tqdm\n"
     ]
    }
   ],
   "source": [
    "import os\n",
    "os.environ['KMP_DUPLICATE_LIB_OK']='True'\n",
    "import glob\n",
    "\n",
    "import process_force as groundlink\n",
    "\n",
    "import numpy as np\n",
    "import math as m"
   ]
  },
  {
   "cell_type": "markdown",
   "metadata": {},
   "source": [
    "List  of Participants and ID"
   ]
  },
  {
   "cell_type": "code",
   "execution_count": 2,
   "metadata": {},
   "outputs": [],
   "source": [
    "participants = {\n",
    "    \"s001\" : \"s001_20220513\",\n",
    "    \"s002\" : \"s002_20220520\",\n",
    "    \"s003\" : \"s003_20220523\",\n",
    "    \"s004\" : \"s004_20220524\",\n",
    "    \"s005\" : \"s005_20220610\",\n",
    "    \"s006\" : \"s006_20220614\",\n",
    "    \"s007\" : \"s007_20220705\",\n",
    "\t}"
   ]
  },
  {
   "cell_type": "markdown",
   "metadata": {},
   "source": [
    "Process force: \n",
    "\n",
    "All force data has been converted to CSV\n",
    "\n",
    "\n",
    "This block will read the processed CSV, assign the forces to individual feet"
   ]
  },
  {
   "cell_type": "code",
   "execution_count": 3,
   "metadata": {},
   "outputs": [],
   "source": [
    "BasePath = '..\\\\Data\\\\'\n",
    "CSV = BasePath + 'RawForce\\\\csv\\\\'\n",
    "\n",
    "motion_framerate = 250\n",
    "force_framerate = 2000\n",
    "rate = int(np.ceil(force_framerate/motion_framerate))\n",
    "\n",
    "character = 'smpl'\n"
   ]
  },
  {
   "cell_type": "code",
   "execution_count": 4,
   "metadata": {},
   "outputs": [
    {
     "name": "stderr",
     "output_type": "stream",
     "text": [
      "Processing: s001: 100%|██████████| 61/61 [00:05<00:00, 11.07it/s]\n",
      "Processing: s002: 100%|██████████| 61/61 [00:04<00:00, 12.38it/s]\n",
      "Processing: s003: 100%|██████████| 61/61 [00:06<00:00,  9.63it/s]\n",
      "Processing: s004: 100%|██████████| 47/47 [00:03<00:00, 11.90it/s]\n",
      "Processing: s005: 100%|██████████| 53/53 [00:04<00:00, 10.98it/s]\n",
      "Processing: s006: 100%|██████████| 60/60 [00:05<00:00, 10.65it/s]\n",
      "Processing: s007: 100%|██████████| 38/38 [00:07<00:00,  4.76it/s]\n"
     ]
    }
   ],
   "source": [
    "import time\n",
    "from tqdm import tqdm\n",
    "\n",
    "for participant in participants:\n",
    "    INPUTCSV =  CSV + participants[participant]\n",
    "    OUTPUTNPY = BasePath + 'ProcessedForce\\\\' + participant + \"\\\\\"\n",
    "    if participant == 's007':\n",
    "        inputNPZpath = BasePath + 'moshpp\\\\' + participant\n",
    "        path = os.path.join(inputNPZpath + '\\\\*.npz')\n",
    "        npzfiles = glob.glob(path)\n",
    "        pbar = tqdm(npzfiles)\n",
    "        pbar.set_description(\"Processing Participant ID: %s\"%participant)\n",
    "        for npz in pbar:\n",
    "            trial = groundlink.get_trial_name(npz, 'Windows')[:-8]\n",
    "            groundlink.assign_force_to_foot(trial, participants[participant], rate, 'smpl', INPUTCSV, OUTPUTNPY, 'Windows') \n",
    "    else:\n",
    "        inputFBXpath = BasePath + 'fbx\\\\' + participants[participant]\n",
    "        path = os.path.join(inputFBXpath + '\\\\*.fbx')\n",
    "        fbxfiles = glob.glob(path)\n",
    "        pbar = tqdm(fbxfiles)\n",
    "        pbar.set_description(\"Processing: %s\"%participant)\n",
    "        for fbx in pbar:\n",
    "            trial = groundlink.get_trial_name(fbx, 'Windows')\n",
    "            groundlink.assign_force_to_foot(trial, participants[participant], rate, 'smpl', INPUTCSV, OUTPUTNPY, 'Windows')"
   ]
  }
 ],
 "metadata": {
  "kernelspec": {
   "display_name": "GroundLinkSubmission",
   "language": "python",
   "name": "python3"
  },
  "language_info": {
   "codemirror_mode": {
    "name": "ipython",
    "version": 3
   },
   "file_extension": ".py",
   "mimetype": "text/x-python",
   "name": "python",
   "nbconvert_exporter": "python",
   "pygments_lexer": "ipython3",
   "version": "3.9.7"
  }
 },
 "nbformat": 4,
 "nbformat_minor": 2
}
