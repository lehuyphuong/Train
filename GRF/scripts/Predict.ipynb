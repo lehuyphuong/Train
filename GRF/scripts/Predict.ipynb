{
 "cells": [
  {
   "cell_type": "markdown",
   "metadata": {},
   "source": [
    "Given a pretrained model and preprocessed motion data, prediction GRF and CoP components, save for analysis and visualization."
   ]
  },
  {
   "cell_type": "code",
   "execution_count": 1,
   "metadata": {},
   "outputs": [
    {
     "name": "stderr",
     "output_type": "stream",
     "text": [
      "c:\\Users\\xjhan\\miniconda3\\envs\\GroundLinkSubmission\\lib\\site-packages\\tqdm\\auto.py:21: TqdmWarning: IProgress not found. Please update jupyter and ipywidgets. See https://ipywidgets.readthedocs.io/en/stable/user_install.html\n",
      "  from .autonotebook import tqdm as notebook_tqdm\n"
     ]
    }
   ],
   "source": [
    "import sys\n",
    "sys.path.append('../../UnderPressure')\n",
    "\n",
    "import models\n",
    "import os\n",
    "import torch\n",
    "import numpy as np\n",
    "import matplotlib.pyplot as plt\n",
    "import glob"
   ]
  },
  {
   "cell_type": "code",
   "execution_count": 2,
   "metadata": {},
   "outputs": [],
   "source": [
    "wild = {\n",
    "    \"S1\" : False,\n",
    "    \"S2\" : False,\n",
    "    \"S3\" : False,\n",
    "    \"S4\" : False,\n",
    "    \"S5\" : False,\n",
    "    \"S6\" : False,\n",
    "    \"S7\" : False,\n",
    "    \"AMASS\": True,\n",
    "    \"w074\" : True,\n",
    "\t}"
   ]
  },
  {
   "cell_type": "code",
   "execution_count": 3,
   "metadata": {},
   "outputs": [],
   "source": [
    "sub_mass = {\n",
    "    \"S1\" : 69.81,\n",
    "    \"S2\" : 66.68,\n",
    "    \"S3\" : 53.07,\n",
    "    \"S4\" : 71.67,\n",
    "    \"S5\" : 90.7,\n",
    "    \"S6\" : 48.99,\n",
    "    \"S7\" : 63.96,\n",
    "    \"AMASS\" : 80.0,\n",
    "\t}"
   ]
  },
  {
   "cell_type": "code",
   "execution_count": 4,
   "metadata": {},
   "outputs": [],
   "source": [
    "system = 'Windows'\n",
    "# system = 'Ubuntu'"
   ]
  },
  {
   "cell_type": "code",
   "execution_count": 5,
   "metadata": {},
   "outputs": [],
   "source": [
    "save_img = False\n",
    "save_high_res_img = True"
   ]
  },
  {
   "cell_type": "code",
   "execution_count": 6,
   "metadata": {},
   "outputs": [],
   "source": [
    "ROOT = \"../ProcessedData/\"\n",
    "subj = \"S7\"\n",
    "mass = sub_mass[subj]\n",
    "folder = \"Male2MartialArtsKicks_c3d\"\n",
    "if wild[subj]:\n",
    "    path = ROOT + subj + \"/\" + folder + \"/preprocessed\"\n",
    "else:\n",
    "    path = ROOT + subj + \"/test\"\n",
    "\n",
    "\n",
    "filepath = os.path.join(path, \"*.pth\")\n",
    "files = glob.glob(filepath)\n",
    "\n",
    "k=20\n",
    "\n",
    "\n",
    "checkpointname = 'pretrained_s7_noshape'\n",
    "checkpointfile = '../checkpoint/' + checkpointname + '.tar'\n",
    "pred_path = ROOT + subj + \"/prediction/\"\n",
    "if not os.path.exists(pred_path):\n",
    "    os.mkdir(pred_path)\n",
    "if wild[subj]:\n",
    "    pred_path_AMASS = ROOT + subj + \"/\" + folder + \"/prediction/\"\n",
    "    if not os.path.exists(pred_path_AMASS):\n",
    "        os.mkdir(pred_path_AMASS)\n",
    "\n",
    "if system == 'Windows':\n",
    "    bar = '\\\\'\n",
    "else:\n",
    "    bar = '/'"
   ]
  },
  {
   "cell_type": "code",
   "execution_count": 7,
   "metadata": {},
   "outputs": [
    {
     "name": "stdout",
     "output_type": "stream",
     "text": [
      "Sucessfully loaded model.\n"
     ]
    }
   ],
   "source": [
    "checkpoint = torch.load(checkpointfile)\n",
    "model = models.DeepNetwork(state_dict=checkpoint[\"model\"]).eval()\n",
    "print(\"Sucessfully loaded model.\")"
   ]
  },
  {
   "cell_type": "code",
   "execution_count": 8,
   "metadata": {},
   "outputs": [
    {
     "name": "stderr",
     "output_type": "stream",
     "text": [
      "Predicting: S7: 100%|██████████| 36/36 [00:05<00:00,  6.64it/s]\n"
     ]
    }
   ],
   "source": [
    "import time\n",
    "from tqdm import tqdm\n",
    "\n",
    "pbar = tqdm(files)\n",
    "pbar.set_description(\"Predicting: %s\"%subj)\n",
    "\n",
    "for file in pbar:\n",
    "    trial = os.path.splitext(file)[0].split(bar)[-1]\n",
    "    ref_data = torch.load(file)\n",
    "    poses = ref_data[\"poses\"]\n",
    "    trans = ref_data[\"trans\"]\n",
    "\n",
    "    with torch.no_grad():\n",
    "        GRFs_pred = model.GRFs(poses.float().unsqueeze(0)).squeeze(0)\n",
    "\n",
    "    if not wild[subj]:\n",
    "        post_process_path = pred_path + checkpointname \n",
    "        if not os.path.exists(post_process_path):\n",
    "            os.mkdir(post_process_path)\n",
    "        output_w_prediction = os.path.join(post_process_path, trial + \".pth\")\n",
    "\n",
    "        weight = 9.81*mass\n",
    "\n",
    "        output_pred = {}\n",
    "        output_pred[\"GRF\"] = ref_data[\"GRF\"]\n",
    "        output_pred[\"CoP\"] = ref_data[\"CoP\"]\n",
    "\n",
    "        output_pred[\"prediction\"] = GRFs_pred\n",
    "        torch.save(output_pred, output_w_prediction)\n",
    "    else:\n",
    "        outputpath = pred_path_AMASS + checkpointname\n",
    "        if not os.path.exists(outputpath):\n",
    "            os.mkdir(outputpath)\n",
    "        output = os.path.join(outputpath, trial + \".pth\")\n",
    "        torch.save(GRFs_pred, output)"
   ]
  }
 ],
 "metadata": {
  "kernelspec": {
   "display_name": "GroundLinkSubmission",
   "language": "python",
   "name": "python3"
  },
  "language_info": {
   "codemirror_mode": {
    "name": "ipython",
    "version": 3
   },
   "file_extension": ".py",
   "mimetype": "text/x-python",
   "name": "python",
   "nbconvert_exporter": "python",
   "pygments_lexer": "ipython3",
   "version": "3.9.7"
  }
 },
 "nbformat": 4,
 "nbformat_minor": 2
}
